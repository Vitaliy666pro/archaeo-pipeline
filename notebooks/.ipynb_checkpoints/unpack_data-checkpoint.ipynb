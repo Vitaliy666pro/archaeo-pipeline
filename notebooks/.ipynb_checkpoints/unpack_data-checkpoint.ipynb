{
 "cells": [
  {
   "cell_type": "code",
   "execution_count": null,
   "metadata": {},
   "outputs": [],
   "source": [
    "import sys\n",
    "from pathlib import Path\n",
    "import py7zr\n",
    "\n",
    "# Директория с сырыми данными\n",
    "raw_dir = Path('../data/raw')\n",
    "\n",
    "if not raw_dir.exists():\n",
    "    raise FileNotFoundError(f\"Directory not found: {raw_dir}\")\n",
    "\n",
    "archives = list(raw_dir.glob('*.7z'))\n",
    "if not archives:\n",
    "    print(\"No .7z archives to unpack.\")\n",
    "else:\n",
    "    for archive in archives:\n",
    "        print(f\"Extracting {archive.name}...\")\n",
    "        with py7zr.SevenZipFile(archive, mode='r') as z:\n",
    "            z.extractall(path=raw_dir)\n",
    "    print(\"All archives unpacked.\")"
   ]
  },
  {
   "cell_type": "code",
   "execution_count": null,
   "metadata": {},
   "outputs": [],
   "source": []
  }
 ],
 "metadata": {
  "language_info": {
   "name": "python"
  }
 },
 "nbformat": 4,
 "nbformat_minor": 2
}
