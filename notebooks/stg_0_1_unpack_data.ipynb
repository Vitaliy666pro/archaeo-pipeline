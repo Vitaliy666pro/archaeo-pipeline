{
 "cells": [
  {
   "cell_type": "code",
   "execution_count": 1,
   "metadata": {},
   "outputs": [
    {
     "name": "stdout",
     "output_type": "stream",
     "text": [
      "Extracting datasets.7z to /app/data/raw...\n",
      "All archives unpacked into /app/data/raw.\n"
     ]
    }
   ],
   "source": [
    "from scripts.data_preprocessing.unpack_data import unpack_archives\n",
    "\n",
    "unpack_archives()"
   ]
  }
 ],
 "metadata": {
  "kernelspec": {
   "display_name": "Python (Archaeo-Pipeline)",
   "language": "python",
   "name": "archaeo"
  }
 },
 "nbformat": 4,
 "nbformat_minor": 4
}
