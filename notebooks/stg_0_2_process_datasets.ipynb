{
 "cells": [
  {
   "cell_type": "code",
   "execution_count": 1,
   "metadata": {},
   "outputs": [
    {
     "name": "stdout",
     "output_type": "stream",
     "text": [
      "Loading dataset: mound_villages\n",
      "  File:        mound_villages_acre.csv\n",
      "  Description: CSV of mound villages with UTM coordinates.\n",
      "  Citation:    Source: Archaeological Institute, 2020\n",
      "Loading dataset: casarabe_sites\n",
      "  File:        casarabe_sites_utm.csv\n",
      "  Description: CSV of Casarabe archaeological sites in UTM coordinates.\n",
      "  Citation:    Source: Casarabe Survey Team, 2021\n",
      "Loading dataset: geoglyphs\n",
      "  File:        amazon_geoglyphs_sites.csv\n",
      "  Description: Geoglyph sites in Amazon with latitude/longitude.\n",
      "  Citation:    Jacobs, J. Q. (2023)\n"
     ]
    },
    {
     "name": "stderr",
     "output_type": "stream",
     "text": [
      "2025-06-27 14:40:15,302 [INFO] number of points in CSV: 9583\n"
     ]
    },
    {
     "name": "stdout",
     "output_type": "stream",
     "text": [
      "Loading dataset: submit\n",
      "  File:        submit.csv\n",
      "  Description: User-submitted archaeological survey predictions via GPT deep research.\n",
      "  Citation:    Walker et al. PeerJ 2023\n",
      "Loading dataset: science_data\n",
      "  File:        science.ade2541_data_s2.csv\n",
      "  Description: Science dataset of archaeological sites with lat/lon.\n",
      "  Citation:    Science Data Repository, 2022\n"
     ]
    },
    {
     "name": "stderr",
     "output_type": "stream",
     "text": [
      "2025-06-27 14:40:15,834 [INFO] bbox for CSV: 9583 points\n",
      "2025-06-27 14:40:15,842 [INFO] rows JSON: 901\n",
      "2025-06-27 14:40:15,951 [INFO] saved: 10484 rows in /app/data/processed/all_coords.csv\n"
     ]
    },
    {
     "name": "stdout",
     "output_type": "stream",
     "text": [
      "Loading dataset: coords_prepared\n",
      "  File:        coords_prepared.json\n",
      "  Description: Points collected via GPT deep-research query for archaeological objects in target countries.\n",
      "  Citation:    Internal GPT DeepResearch 2025\n"
     ]
    },
    {
     "data": {
      "text/html": [
       "<div>\n",
       "<style scoped>\n",
       "    .dataframe tbody tr th:only-of-type {\n",
       "        vertical-align: middle;\n",
       "    }\n",
       "\n",
       "    .dataframe tbody tr th {\n",
       "        vertical-align: top;\n",
       "    }\n",
       "\n",
       "    .dataframe thead th {\n",
       "        text-align: right;\n",
       "    }\n",
       "</style>\n",
       "<table border=\"1\" class=\"dataframe\">\n",
       "  <thead>\n",
       "    <tr style=\"text-align: right;\">\n",
       "      <th></th>\n",
       "      <th>name</th>\n",
       "      <th>coordinates</th>\n",
       "      <th>source</th>\n",
       "      <th>bbox</th>\n",
       "    </tr>\n",
       "  </thead>\n",
       "  <tbody>\n",
       "    <tr>\n",
       "      <th>0</th>\n",
       "      <td>Aparecida do Norte I</td>\n",
       "      <td>[-67.1248599754298, -9.728638276917012]</td>\n",
       "      <td>Mound Villages</td>\n",
       "      <td>[-67.12941706623732, -9.733129832791967, -67.1...</td>\n",
       "    </tr>\n",
       "    <tr>\n",
       "      <th>1</th>\n",
       "      <td>Caboquim</td>\n",
       "      <td>[-67.17343193253276, -9.810056524098782]</td>\n",
       "      <td>Mound Villages</td>\n",
       "      <td>[-67.17799013845725, -9.814548079973736, -67.1...</td>\n",
       "    </tr>\n",
       "    <tr>\n",
       "      <th>2</th>\n",
       "      <td>Coqueiral</td>\n",
       "      <td>[-67.3498540750232, -9.898714286061022]</td>\n",
       "      <td>Mound Villages</td>\n",
       "      <td>[-67.3544135063129, -9.903205841935977, -67.34...</td>\n",
       "    </tr>\n",
       "    <tr>\n",
       "      <th>3</th>\n",
       "      <td>Dois círculos IV</td>\n",
       "      <td>[-67.65549108352975, -10.208469127347787]</td>\n",
       "      <td>Mound Villages</td>\n",
       "      <td>[-67.66005488705427, -10.212960683222741, -67....</td>\n",
       "    </tr>\n",
       "    <tr>\n",
       "      <th>4</th>\n",
       "      <td>Dois círculos V</td>\n",
       "      <td>[-67.65063849995737, -10.205474246796404]</td>\n",
       "      <td>Mound Villages</td>\n",
       "      <td>[-67.65520226052976, -10.20996580267136, -67.6...</td>\n",
       "    </tr>\n",
       "  </tbody>\n",
       "</table>\n",
       "</div>"
      ],
      "text/plain": [
       "                   name                                coordinates  \\\n",
       "0  Aparecida do Norte I    [-67.1248599754298, -9.728638276917012]   \n",
       "1              Caboquim   [-67.17343193253276, -9.810056524098782]   \n",
       "2             Coqueiral    [-67.3498540750232, -9.898714286061022]   \n",
       "3      Dois círculos IV  [-67.65549108352975, -10.208469127347787]   \n",
       "4       Dois círculos V  [-67.65063849995737, -10.205474246796404]   \n",
       "\n",
       "           source                                               bbox  \n",
       "0  Mound Villages  [-67.12941706623732, -9.733129832791967, -67.1...  \n",
       "1  Mound Villages  [-67.17799013845725, -9.814548079973736, -67.1...  \n",
       "2  Mound Villages  [-67.3544135063129, -9.903205841935977, -67.34...  \n",
       "3  Mound Villages  [-67.66005488705427, -10.212960683222741, -67....  \n",
       "4  Mound Villages  [-67.65520226052976, -10.20996580267136, -67.6...  "
      ]
     },
     "execution_count": 1,
     "metadata": {},
     "output_type": "execute_result"
    }
   ],
   "source": [
    "from scripts.data_preprocessing.combine_datasets import process_datasets\n",
    "combined_df = process_datasets()\n",
    "combined_df.head()"
   ]
  }
 ],
 "metadata": {
  "kernelspec": {
   "display_name": "Python (Archaeo-Pipeline)",
   "language": "python",
   "name": "archaeo"
  },
  "language_info": {
   "codemirror_mode": {
    "name": "ipython",
    "version": 3
   },
   "file_extension": ".py",
   "mimetype": "text/x-python",
   "name": "python",
   "nbconvert_exporter": "python",
   "pygments_lexer": "ipython3",
   "version": "3.9.23"
  }
 },
 "nbformat": 4,
 "nbformat_minor": 2
}
