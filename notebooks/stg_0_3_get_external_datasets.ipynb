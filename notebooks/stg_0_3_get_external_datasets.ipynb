{
 "cells": [
  {
   "cell_type": "code",
   "execution_count": 1,
   "metadata": {},
   "outputs": [
    {
     "name": "stderr",
     "output_type": "stream",
     "text": [
      "/opt/conda/envs/archaeo/lib/python3.9/site-packages/tqdm/auto.py:21: TqdmWarning: IProgress not found. Please update jupyter and ipywidgets. See https://ipywidgets.readthedocs.io/en/stable/user_install.html\n",
      "  from .autonotebook import tqdm as notebook_tqdm\n"
     ]
    },
    {
     "name": "stdout",
     "output_type": "stream",
     "text": [
      "⏬ Downloading: fnands/nasa-amazon-lidar-2008-2018\n",
      "Downloading from https://www.kaggle.com/api/v1/datasets/download/fnands/nasa-amazon-lidar-2008-2018?dataset_version_number=2...\n"
     ]
    },
    {
     "name": "stderr",
     "output_type": "stream",
     "text": [
      "100%|██████████| 3.49G/3.49G [01:29<00:00, 42.1MB/s]"
     ]
    },
    {
     "name": "stdout",
     "output_type": "stream",
     "text": [
      "Extracting files...\n"
     ]
    },
    {
     "name": "stderr",
     "output_type": "stream",
     "text": [
      "\n"
     ]
    },
    {
     "name": "stdout",
     "output_type": "stream",
     "text": [
      "✅ Saved to: data/raw/datasets/nasa-amazon-lidar-2008-2018\n",
      "\n",
      "⏬ Downloading: fnands/major-tom-core-s2l1c-ssl4eo-amazonia-embeddings\n",
      "Downloading from https://www.kaggle.com/api/v1/datasets/download/fnands/major-tom-core-s2l1c-ssl4eo-amazonia-embeddings?dataset_version_number=1...\n"
     ]
    },
    {
     "name": "stderr",
     "output_type": "stream",
     "text": [
      "100%|██████████| 8.14G/8.14G [03:55<00:00, 37.1MB/s]  "
     ]
    },
    {
     "name": "stdout",
     "output_type": "stream",
     "text": [
      "Extracting files...\n"
     ]
    },
    {
     "name": "stderr",
     "output_type": "stream",
     "text": [
      "\n"
     ]
    },
    {
     "name": "stdout",
     "output_type": "stream",
     "text": [
      "✅ Saved to: data/raw/datasets/major-tom-core-s2l1c-ssl4eo-amazonia-embeddings\n",
      "\n",
      "⏬ Downloading: ceeluna/hydrorivers-dataset\n",
      "Downloading from https://www.kaggle.com/api/v1/datasets/download/ceeluna/hydrorivers-dataset?dataset_version_number=1...\n"
     ]
    },
    {
     "name": "stderr",
     "output_type": "stream",
     "text": [
      "100%|██████████| 110M/110M [00:03<00:00, 29.7MB/s] "
     ]
    },
    {
     "name": "stdout",
     "output_type": "stream",
     "text": [
      "Extracting files...\n"
     ]
    },
    {
     "name": "stderr",
     "output_type": "stream",
     "text": [
      "\n"
     ]
    },
    {
     "name": "stdout",
     "output_type": "stream",
     "text": [
      "✅ Saved to: data/raw/datasets/hydrorivers-dataset\n",
      "\n",
      "⏬ Downloading: ceeluna/gedi-cluster0-2019-2021\n",
      "Downloading from https://www.kaggle.com/api/v1/datasets/download/ceeluna/gedi-cluster0-2019-2021?dataset_version_number=1...\n"
     ]
    },
    {
     "name": "stderr",
     "output_type": "stream",
     "text": [
      "100%|██████████| 962k/962k [00:00<00:00, 2.01MB/s]"
     ]
    },
    {
     "name": "stdout",
     "output_type": "stream",
     "text": [
      "Extracting files...\n",
      "✅ Saved to: data/raw/datasets/gedi-cluster0-2019-2021\n",
      "\n"
     ]
    },
    {
     "name": "stderr",
     "output_type": "stream",
     "text": [
      "\n"
     ]
    }
   ],
   "source": [
    "from scripts.data_preprocessing.download_external_datasets import download_all_kaggle_datasets\n",
    "download_all_kaggle_datasets()"
   ]
  },
  {
   "cell_type": "code",
   "execution_count": null,
   "metadata": {},
   "outputs": [],
   "source": []
  }
 ],
 "metadata": {
  "kernelspec": {
   "display_name": "Python (Archaeo-Pipeline)",
   "language": "python",
   "name": "archaeo"
  }
 },
 "nbformat": 4,
 "nbformat_minor": 2
}
